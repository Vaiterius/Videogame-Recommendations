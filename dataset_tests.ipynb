{
 "cells": [
  {
   "cell_type": "code",
   "execution_count": 4,
   "id": "033003ea-962d-44f5-a23d-c788da3d7145",
   "metadata": {},
   "outputs": [],
   "source": [
    "import pandas as pd\n",
    "\n",
    "games_dataframe = pd.read_csv(\"dataset/games.csv\", on_bad_lines=\"skip\")\n",
    "\n",
    "# Iterate over smaller chunks at a time as the data is very large in these files.\n",
    "users_iterator = pd.read_csv(\"dataset/users.csv\", on_bad_lines=\"skip\", chunksize=100_000)\n",
    "recs_iterator = pd.read_csv(\"dataset/recommendations.csv\", on_bad_lines=\"skip\", iterator=True, chunksize=1_000_000)"
   ]
  },
  {
   "cell_type": "code",
   "execution_count": 5,
   "id": "223529a0-8d74-4643-8ff0-e79b04d0067a",
   "metadata": {},
   "outputs": [
    {
     "name": "stdout",
     "output_type": "stream",
     "text": [
      "DUPLICATE GAMES: 121\n",
      "DUPLICATE USERS: 0\n",
      "DUPLICATE RECS: 38223375\n",
      "DUPLICATE GAMES NOW: 0        False\n",
      "1        False\n",
      "2        False\n",
      "3        False\n",
      "4        False\n",
      "         ...  \n",
      "50791    False\n",
      "50792    False\n",
      "50793    False\n",
      "50794    False\n",
      "50795    False\n",
      "Length: 50675, dtype: bool\n"
     ]
    }
   ],
   "source": [
    "# Preprocessing.\n",
    "games_duplicates = 0\n",
    "users_duplicates = 0\n",
    "recs_duplicates = 0\n",
    "\n",
    "games_duplicates = games_dataframe.duplicated(subset=\"title\").sum()\n",
    "for chunk in users_iterator:\n",
    "    users_duplicates += chunk.duplicated(subset=\"user_id\").sum()\n",
    "for chunk in recs_iterator:\n",
    "    recs_duplicates += chunk.duplicated(subset=\"app_id\").sum()\n",
    "\n",
    "print(f\"DUPLICATE GAMES: {games_duplicates}\")\n",
    "print(f\"DUPLICATE USERS: {users_duplicates}\")\n",
    "print(f\"DUPLICATE RECS: {recs_duplicates}\")\n",
    "\n",
    "# Removing duplicates.\n",
    "games_dataframe = games_dataframe.drop_duplicates(subset=\"title\")\n",
    "print(f\"DUPLICATE GAMES NOW: {games_dataframe.duplicated(subset='title')}\")"
   ]
  },
  {
   "cell_type": "code",
   "execution_count": 6,
   "id": "60ff61d2-1a96-4d47-a9db-fd503a734131",
   "metadata": {},
   "outputs": [],
   "source": [
    "# Random sampling.\n",
    "sample_size = 15_000\n",
    "games_dataframe = games_dataframe.sample(n=sample_size, replace=False, random_state=490)\n",
    "\n",
    "games_dataframe = games_dataframe.reset_index()\n",
    "games_dataframe = games_dataframe.drop(\"index\", axis=1)"
   ]
  },
  {
   "cell_type": "code",
   "execution_count": 7,
   "id": "d42f847b-3f8a-4ef5-bcc8-fed371864588",
   "metadata": {},
   "outputs": [
    {
     "ename": "IndexError",
     "evalue": "list index out of range",
     "output_type": "error",
     "traceback": [
      "\u001b[0;31m---------------------------------------------------------------------------\u001b[0m",
      "\u001b[0;31mIndexError\u001b[0m                                Traceback (most recent call last)",
      "Cell \u001b[0;32mIn[7], line 21\u001b[0m\n\u001b[1;32m     17\u001b[0m     game_indices \u001b[38;5;241m=\u001b[39m [i[\u001b[38;5;241m0\u001b[39m] \u001b[38;5;28;01mfor\u001b[39;00m i \u001b[38;5;129;01min\u001b[39;00m sim_scores]\n\u001b[1;32m     18\u001b[0m     \u001b[38;5;28;01mreturn\u001b[39;00m games_dataframe[\u001b[38;5;124m'\u001b[39m\u001b[38;5;124mtitle\u001b[39m\u001b[38;5;124m'\u001b[39m]\u001b[38;5;241m.\u001b[39miloc[game_indices]\n\u001b[0;32m---> 21\u001b[0m \u001b[38;5;28mprint\u001b[39m(\u001b[43mget_content_based_recommendations\u001b[49m\u001b[43m(\u001b[49m\u001b[38;5;124;43m\"\u001b[39;49m\u001b[38;5;124;43mCall of Duty\u001b[39;49m\u001b[38;5;124;43m\"\u001b[39;49m\u001b[43m,\u001b[49m\u001b[43m \u001b[49m\u001b[43mgames_dataframe\u001b[49m\u001b[43m)\u001b[49m)\n",
      "Cell \u001b[0;32mIn[7], line 13\u001b[0m, in \u001b[0;36mget_content_based_recommendations\u001b[0;34m(title, games_dataframe, cosine_sim)\u001b[0m\n\u001b[1;32m     12\u001b[0m \u001b[38;5;28;01mdef\u001b[39;00m \u001b[38;5;21mget_content_based_recommendations\u001b[39m(title, games_dataframe, cosine_sim\u001b[38;5;241m=\u001b[39mcosine_sim):\n\u001b[0;32m---> 13\u001b[0m     idx \u001b[38;5;241m=\u001b[39m \u001b[43mgames_dataframe\u001b[49m\u001b[38;5;241;43m.\u001b[39;49m\u001b[43mindex\u001b[49m\u001b[43m[\u001b[49m\u001b[43mgames_dataframe\u001b[49m\u001b[43m[\u001b[49m\u001b[38;5;124;43m'\u001b[39;49m\u001b[38;5;124;43mtitle\u001b[39;49m\u001b[38;5;124;43m'\u001b[39;49m\u001b[43m]\u001b[49m\u001b[43m \u001b[49m\u001b[38;5;241;43m==\u001b[39;49m\u001b[43m \u001b[49m\u001b[43mtitle\u001b[49m\u001b[43m]\u001b[49m\u001b[38;5;241;43m.\u001b[39;49m\u001b[43mtolist\u001b[49m\u001b[43m(\u001b[49m\u001b[43m)\u001b[49m\u001b[43m[\u001b[49m\u001b[38;5;241;43m0\u001b[39;49m\u001b[43m]\u001b[49m\n\u001b[1;32m     14\u001b[0m     sim_scores \u001b[38;5;241m=\u001b[39m \u001b[38;5;28mlist\u001b[39m(\u001b[38;5;28menumerate\u001b[39m(cosine_sim[idx]))\n\u001b[1;32m     15\u001b[0m     sim_scores \u001b[38;5;241m=\u001b[39m \u001b[38;5;28msorted\u001b[39m(sim_scores, key\u001b[38;5;241m=\u001b[39m\u001b[38;5;28;01mlambda\u001b[39;00m x: x[\u001b[38;5;241m1\u001b[39m], reverse\u001b[38;5;241m=\u001b[39m\u001b[38;5;28;01mTrue\u001b[39;00m)\n",
      "\u001b[0;31mIndexError\u001b[0m: list index out of range"
     ]
    }
   ],
   "source": [
    "from sklearn.metrics.pairwise import linear_kernel\n",
    "from sklearn.feature_extraction.text import TfidfVectorizer\n",
    "\n",
    "# 1. Process textual data\n",
    "tfidf_vectorizer = TfidfVectorizer(stop_words='english')\n",
    "tfidf_matrix = tfidf_vectorizer.fit_transform(games_dataframe['title'].fillna(''))\n",
    "\n",
    "# 2. Calculate similarity scores\n",
    "cosine_sim = linear_kernel(tfidf_matrix, tfidf_matrix)\n",
    "\n",
    "\n",
    "def get_content_based_recommendations(title, games_dataframe, cosine_sim=cosine_sim):\n",
    "    idx = games_dataframe.index[games_dataframe['title'] == title].tolist()[0]\n",
    "    sim_scores = list(enumerate(cosine_sim[idx]))\n",
    "    sim_scores = sorted(sim_scores, key=lambda x: x[1], reverse=True)\n",
    "    sim_scores = sim_scores[1:6]\n",
    "    game_indices = [i[0] for i in sim_scores]\n",
    "    return games_dataframe['title'].iloc[game_indices]\n",
    "\n",
    "\n",
    "print(get_content_based_recommendations(\"Call of Duty\", games_dataframe))"
   ]
  },
  {
   "cell_type": "code",
   "execution_count": null,
   "id": "48dda87d-e866-4b34-b170-791f82be94e7",
   "metadata": {},
   "outputs": [],
   "source": []
  }
 ],
 "metadata": {
  "kernelspec": {
   "display_name": "Python 3 (ipykernel)",
   "language": "python",
   "name": "python3"
  },
  "language_info": {
   "codemirror_mode": {
    "name": "ipython",
    "version": 3
   },
   "file_extension": ".py",
   "mimetype": "text/x-python",
   "name": "python",
   "nbconvert_exporter": "python",
   "pygments_lexer": "ipython3",
   "version": "3.10.12"
  }
 },
 "nbformat": 4,
 "nbformat_minor": 5
}
